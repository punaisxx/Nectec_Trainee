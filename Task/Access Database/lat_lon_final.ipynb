{
 "cells": [
  {
   "cell_type": "code",
   "execution_count": 1,
   "id": "0b007e09-a41a-47f5-ae36-863eff70b911",
   "metadata": {},
   "outputs": [],
   "source": [
    "import psycopg2\n",
    "import numpy as np"
   ]
  },
  {
   "cell_type": "code",
   "execution_count": 2,
   "id": "dff3149d-6055-45e6-bf72-cf8c65539f16",
   "metadata": {},
   "outputs": [],
   "source": [
    "def lat_lon_to_plant_type(longitude, latitude):\n",
    "    plant_type = ''\n",
    "    conn = psycopg2.connect(host=\"10.223.72.83\" ,port=\"5433\", database = \"postgres\" , user=\"postgres\" , password=\"punpuntpasswd\")\n",
    "    cursor = conn.cursor()\n",
    "    \n",
    "    query = \"\"\"SELECT ARRAY_AGG(ST_Value(rast, 1, p.geom)) AS pixel_values FROM raster_results_1, (SELECT ST_SetSRID(ST_MakePoint(%s, %s), 4326) AS geom) AS p WHERE ST_Intersects(rast, p.geom);\"\"\"\n",
    "    \n",
    "    cursor.execute(query, (longitude, latitude))\n",
    "\n",
    "    result = cursor.fetchone()\n",
    "    pixel_values = result[0] if result else []\n",
    "    \n",
    "    if np.round(pixel_values[0]) == 1:\n",
    "        plant_type = 'rice'\n",
    "    elif np.round(pixel_values[0]) == 2:\n",
    "        plant_type = 'sugarcane'\n",
    "    else:\n",
    "        plant_type = 'none'\n",
    "        \n",
    "    cursor.close()\n",
    "    conn.close()\n",
    "        \n",
    "    return plant_type\n",
    "    "
   ]
  },
  {
   "cell_type": "code",
   "execution_count": 3,
   "id": "7144d34b-5931-4230-856d-07ce88733aac",
   "metadata": {},
   "outputs": [],
   "source": [
    "longitude = 101.955314\n",
    "latitude = 16.466397"
   ]
  },
  {
   "cell_type": "code",
   "execution_count": 4,
   "id": "34ef989a-8f67-411f-b960-2197e647b16d",
   "metadata": {},
   "outputs": [
    {
     "data": {
      "text/plain": [
       "'rice'"
      ]
     },
     "execution_count": 4,
     "metadata": {},
     "output_type": "execute_result"
    }
   ],
   "source": [
    "lat_lon_to_plant_type(longitude, latitude)"
   ]
  },
  {
   "cell_type": "code",
   "execution_count": 5,
   "id": "218cc310-c8e5-406c-9666-9362a49c7e27",
   "metadata": {},
   "outputs": [],
   "source": [
    "import random"
   ]
  },
  {
   "cell_type": "code",
   "execution_count": 6,
   "id": "aa42ac2f-d5ec-4b62-826e-b9017dce0f32",
   "metadata": {},
   "outputs": [
    {
     "name": "stdout",
     "output_type": "stream",
     "text": [
      "longitude: 101.91574956907954, latitude: 16.244310601991835,result: rice\n",
      "longitude: 101.98812517579148, latitude: 16.7249172556676,result: none\n",
      "longitude: 102.20917826973876, latitude: 15.566922975653979,result: none\n",
      "longitude: 102.19834738333414, latitude: 15.333113131852764,result: none\n",
      "longitude: 102.0599494977585, latitude: 16.06017007008669,result: none\n",
      "longitude: 101.99483896659062, latitude: 16.521475741984823,result: none\n",
      "longitude: 101.35724505791826, latitude: 16.568535863330084,result: none\n",
      "longitude: 101.40495897943678, latitude: 15.87565982457966,result: none\n",
      "longitude: 102.17315036345303, latitude: 16.07208999243921,result: rice\n",
      "longitude: 102.39605041147257, latitude: 15.66603150451788,result: none\n",
      "longitude: 101.83528243640471, latitude: 16.483992324425625,result: none\n",
      "longitude: 102.09026862720481, latitude: 15.6727820952145,result: rice\n",
      "longitude: 101.98637500365497, latitude: 15.909629312277065,result: none\n",
      "longitude: 101.7780285850549, latitude: 16.12678875637832,result: none\n",
      "longitude: 102.33983821847431, latitude: 15.658352727596046,result: none\n",
      "longitude: 102.40161664544495, latitude: 16.00096011707953,result: none\n",
      "longitude: 101.4002581934518, latitude: 15.465442698601878,result: rice\n",
      "longitude: 101.43302434452907, latitude: 15.696859598421527,result: rice\n",
      "longitude: 102.35598395069549, latitude: 15.938039811493326,result: rice\n",
      "longitude: 102.00551978430767, latitude: 15.569500001064203,result: rice\n",
      "longitude: 102.23334706548309, latitude: 15.723442626255821,result: none\n",
      "longitude: 102.09650326437811, latitude: 16.554868189412016,result: none\n",
      "longitude: 102.36355891027937, latitude: 15.428401990087819,result: none\n",
      "longitude: 101.9723366119548, latitude: 16.602344255262235,result: rice\n",
      "longitude: 102.44785383559847, latitude: 15.796670666084777,result: none\n",
      "longitude: 102.02187047420492, latitude: 15.566275174907492,result: none\n",
      "longitude: 102.18132198516723, latitude: 16.30555081222989,result: none\n",
      "longitude: 102.17300917614193, latitude: 15.835187507072106,result: rice\n",
      "longitude: 101.5324055884845, latitude: 15.640233072159242,result: none\n",
      "longitude: 101.74710330769572, latitude: 15.594931961407042,result: none\n",
      "longitude: 102.21499593668248, latitude: 16.46332937341471,result: sugarcane\n",
      "longitude: 101.32765075631865, latitude: 16.719898441342455,result: none\n",
      "longitude: 102.33403129673778, latitude: 15.633980761976384,result: none\n",
      "longitude: 101.69274307694418, latitude: 15.474769292176203,result: none\n",
      "longitude: 101.50585677964578, latitude: 15.75307595946022,result: sugarcane\n",
      "longitude: 101.5632409991362, latitude: 16.157553483875628,result: none\n",
      "longitude: 101.4361753805992, latitude: 15.57004306863987,result: none\n",
      "longitude: 102.11663477831601, latitude: 16.16378776314214,result: none\n",
      "longitude: 101.83323637185273, latitude: 16.337132697015583,result: none\n",
      "longitude: 102.2809461084806, latitude: 15.483473633220788,result: none\n",
      "longitude: 101.62622545189893, latitude: 16.23502168753385,result: none\n",
      "longitude: 101.66134115839522, latitude: 15.825274287562767,result: none\n",
      "longitude: 101.90772446569446, latitude: 16.35726004755255,result: none\n",
      "longitude: 102.41139493722733, latitude: 15.48593899457303,result: none\n",
      "longitude: 101.59537881816112, latitude: 15.985952572415359,result: none\n",
      "longitude: 102.0851864004126, latitude: 16.510265081520174,result: none\n",
      "longitude: 102.41955370538082, latitude: 16.614055991012766,result: none\n",
      "longitude: 101.73876248772785, latitude: 15.88862622957394,result: none\n",
      "longitude: 102.25029132181571, latitude: 16.5993261384941,result: none\n",
      "longitude: 101.35422168243127, latitude: 16.226519210823966,result: none\n",
      "longitude: 101.47408740789638, latitude: 15.521194225529431,result: none\n",
      "longitude: 101.32184013626569, latitude: 16.42029097643931,result: none\n",
      "longitude: 101.64073335271824, latitude: 15.467941896443111,result: sugarcane\n",
      "longitude: 101.60417456767108, latitude: 15.415299771442289,result: none\n",
      "longitude: 101.3959927141716, latitude: 16.278169957456008,result: none\n",
      "longitude: 102.00540623605268, latitude: 15.608765619152893,result: none\n",
      "longitude: 102.18148298000625, latitude: 15.343003143097055,result: none\n",
      "longitude: 101.6828583165292, latitude: 16.545619971686296,result: none\n",
      "longitude: 101.85029248379645, latitude: 16.197620435116157,result: none\n",
      "longitude: 102.09819596487985, latitude: 15.658509529716783,result: rice\n",
      "longitude: 101.82080304092266, latitude: 15.417490938252561,result: rice\n",
      "longitude: 101.39113201589888, latitude: 16.0271497975039,result: none\n",
      "longitude: 101.44187419846914, latitude: 16.42032453071923,result: none\n",
      "longitude: 101.59058771862294, latitude: 16.25616540562274,result: none\n",
      "longitude: 101.98306999604316, latitude: 16.550514419653634,result: rice\n",
      "longitude: 101.60565872346228, latitude: 15.706252531644525,result: none\n",
      "longitude: 101.67373308754078, latitude: 16.076621633776174,result: sugarcane\n",
      "longitude: 102.07273224259222, latitude: 15.591105268478874,result: none\n",
      "longitude: 101.32039490504994, latitude: 15.464268897430582,result: none\n",
      "longitude: 102.32564515370468, latitude: 15.83223356283556,result: none\n",
      "longitude: 102.15550564527393, latitude: 15.789771729113491,result: rice\n",
      "longitude: 101.32461108616663, latitude: 16.638254785292403,result: none\n",
      "longitude: 102.33989630243225, latitude: 15.385697214572833,result: none\n",
      "longitude: 101.41674977702276, latitude: 16.0068766187789,result: sugarcane\n",
      "longitude: 101.77958534749986, latitude: 16.458877974086477,result: none\n",
      "longitude: 101.81439072856674, latitude: 16.26483784770975,result: none\n",
      "longitude: 102.03106262659341, latitude: 16.166991490695303,result: none\n",
      "longitude: 101.46773591320886, latitude: 16.699914897489055,result: none\n",
      "longitude: 101.79386650525822, latitude: 15.46379243474394,result: sugarcane\n",
      "longitude: 102.07672835137798, latitude: 15.911240446188993,result: none\n",
      "longitude: 102.42904028824424, latitude: 16.314758905791336,result: none\n",
      "longitude: 101.51564939308925, latitude: 16.679670396192044,result: none\n",
      "longitude: 101.81189607502992, latitude: 15.713626074685656,result: rice\n",
      "longitude: 102.13185526471678, latitude: 16.61475185378079,result: none\n",
      "longitude: 102.17454528251233, latitude: 15.447639000630598,result: none\n",
      "longitude: 102.09130301742286, latitude: 15.662579484453408,result: rice\n",
      "longitude: 102.19038609124091, latitude: 15.57723051413444,result: none\n",
      "longitude: 101.5393777681894, latitude: 16.3778727342556,result: none\n",
      "longitude: 102.05117746237198, latitude: 15.760085343501602,result: sugarcane\n",
      "longitude: 101.8857349113808, latitude: 16.358706751395633,result: none\n",
      "longitude: 102.1415505628563, latitude: 16.17257290746824,result: rice\n",
      "longitude: 102.21438576444012, latitude: 16.373491229814245,result: rice\n",
      "longitude: 101.77482530029067, latitude: 15.46494908882581,result: rice\n",
      "longitude: 102.3993454032873, latitude: 16.574086538999047,result: none\n",
      "longitude: 101.92298842963137, latitude: 16.18938116188178,result: none\n",
      "longitude: 102.10582199681967, latitude: 16.51356948413178,result: none\n",
      "longitude: 102.27821545711753, latitude: 16.409091432328324,result: none\n",
      "longitude: 101.8760325925088, latitude: 16.534688389922373,result: sugarcane\n",
      "longitude: 102.35803982730607, latitude: 15.815501908355722,result: none\n",
      "longitude: 101.98623741589658, latitude: 16.468953030925537,result: sugarcane\n"
     ]
    }
   ],
   "source": [
    "for i in range(100):\n",
    "    longitude = random.uniform(101.31715004592043, 102.45943367424138)\n",
    "    latitude = random.uniform(15.33138991704691, 16.730614647084916)\n",
    "    \n",
    "    result = lat_lon_to_plant_type(longitude, latitude)\n",
    "\n",
    "    print(f\"longitude: {longitude}, latitude: {latitude},result: {result}\")"
   ]
  },
  {
   "cell_type": "code",
   "execution_count": null,
   "id": "bfc2dbc8-bfbe-4086-8765-8b4790cf7aa8",
   "metadata": {},
   "outputs": [],
   "source": []
  }
 ],
 "metadata": {
  "kernelspec": {
   "display_name": "kernel_env",
   "language": "python",
   "name": "kernel_env"
  },
  "language_info": {
   "codemirror_mode": {
    "name": "ipython",
    "version": 3
   },
   "file_extension": ".py",
   "mimetype": "text/x-python",
   "name": "python",
   "nbconvert_exporter": "python",
   "pygments_lexer": "ipython3",
   "version": "3.10.12"
  }
 },
 "nbformat": 4,
 "nbformat_minor": 5
}
