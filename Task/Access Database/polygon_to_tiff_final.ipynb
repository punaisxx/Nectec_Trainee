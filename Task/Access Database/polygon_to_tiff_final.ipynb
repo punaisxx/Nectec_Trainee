{
 "cells": [
  {
   "cell_type": "code",
   "execution_count": 1,
   "id": "f35080c8-6518-4023-a3e6-79fcce14c3bd",
   "metadata": {},
   "outputs": [],
   "source": [
    "import psycopg2\n",
    "from datetime import datetime"
   ]
  },
  {
   "cell_type": "code",
   "execution_count": 2,
   "id": "990d5782-1828-4f10-8f2f-a11d4792a93f",
   "metadata": {},
   "outputs": [],
   "source": [
    "def polygon_to_geotiff(polygon_coords):\n",
    "    polygon_wkt = f\"LINESTRING({', '.join([f'{lon} {lat}' for lon, lat in polygon_coords])})\"\n",
    "    query = \"\"\"SELECT ST_AsTIFF(ST_Clip(r.rast, p.geom)) AS cropped_tiff FROM raster_results_1 r, (SELECT ST_SetSRID(ST_MakePolygon(ST_GeomFromText(%s)), 4326) AS geom) p WHERE ST_Intersects(r.rast, p.geom);\"\"\"\n",
    "    \n",
    "    conn = psycopg2.connect(host=\"10.223.72.83\" ,port=\"5433\", database = \"postgres\" , user=\"postgres\" , password=\"punpuntpasswd\")\n",
    "    cursor = conn.cursor()\n",
    "    \n",
    "    cursor.execute(\"SET postgis.gdal_enabled_drivers = 'ENABLE_ALL';\")\n",
    "    cursor.execute(query, (polygon_wkt,))\n",
    "\n",
    "    result = cursor.fetchone()\n",
    "    cropped_tiff = result[0] if result else None\n",
    "    \n",
    "    out_meta = {'driver': 'GTiff'}\n",
    "    out_image = cropped_tiff\n",
    "    \n",
    "    if cropped_tiff:\n",
    "        timestamp = datetime.now().strftime(\"%Y%m%d_%H%M%S\")\n",
    "        filename = f\"output_{timestamp}.tiff\"\n",
    "        with open(f'/home/kea-trainee-punpun/Week2/polygon_tiff_output/{filename}', 'wb') as f:\n",
    "            f.write(out_image.tobytes())\n",
    "        status = f\"File '{filename}' created.\"\n",
    "    else:\n",
    "        status = \"No cropped raster data found.\"\n",
    "\n",
    "    cursor.close()\n",
    "    conn.close()\n",
    "\n",
    "    return status\n",
    "\n"
   ]
  },
  {
   "cell_type": "code",
   "execution_count": 3,
   "id": "40c581f4-7217-4c62-b6ae-53299db63ffa",
   "metadata": {},
   "outputs": [],
   "source": [
    "polygon_coords = [\n",
    "    (102.26539189185458, 16.54356817627857), \n",
    "    (101.95606037474194, 16.08328194532515),\n",
    "    (101.93394678768034, 16.647561388673765), \n",
    "    (102.36400115858939, 16.538869127991614), \n",
    "    (102.26539189185458, 16.54356817627857)\n",
    "]"
   ]
  },
  {
   "cell_type": "code",
   "execution_count": 4,
   "id": "ff632008-4456-4be4-9be1-9bd90e629b79",
   "metadata": {},
   "outputs": [
    {
     "data": {
      "text/plain": [
       "\"File 'output_20240627_065024.tiff' created.\""
      ]
     },
     "execution_count": 4,
     "metadata": {},
     "output_type": "execute_result"
    }
   ],
   "source": [
    "polygon_to_geotiff(polygon_coords)"
   ]
  }
 ],
 "metadata": {
  "kernelspec": {
   "display_name": "kernel_env",
   "language": "python",
   "name": "kernel_env"
  },
  "language_info": {
   "codemirror_mode": {
    "name": "ipython",
    "version": 3
   },
   "file_extension": ".py",
   "mimetype": "text/x-python",
   "name": "python",
   "nbconvert_exporter": "python",
   "pygments_lexer": "ipython3",
   "version": "3.10.12"
  }
 },
 "nbformat": 4,
 "nbformat_minor": 5
}
