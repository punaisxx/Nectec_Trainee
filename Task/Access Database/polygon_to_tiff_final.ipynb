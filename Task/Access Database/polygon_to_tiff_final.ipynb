{
 "cells": [
  {
   "cell_type": "code",
   "execution_count": 1,
   "id": "f35080c8-6518-4023-a3e6-79fcce14c3bd",
   "metadata": {},
   "outputs": [],
   "source": [
    "import psycopg2\n",
    "from datetime import datetime"
   ]
  },
  {
   "cell_type": "code",
   "execution_count": 2,
   "id": "9797be35-82a0-4dcd-86fd-b562755c17c2",
   "metadata": {},
   "outputs": [],
   "source": [
    "def polygon_to_geotiff(polygon_coords):\n",
    "    status = ''\n",
    "    conn = psycopg2.connect(host=\"10.223.72.83\" ,port=\"5433\", database = \"postgres\" , user=\"postgres\" , password=\"punpuntpasswd\")\n",
    "    try:\n",
    "        polygon_wkt = \"POLYGON((\" + \",\".join([f\"{lon} {lat}\" for lon, lat in polygon_coords]) + \"))\"\n",
    "        \n",
    "        query = f\"\"\"\n",
    "        SELECT ST_AsTIFF(ST_UNION(\n",
    "            ST_Clip(rast, ST_SetSRID(ST_MakeValid(ST_GeomFromText('{polygon_wkt}')), 4326))\n",
    "        )) AS clipped_tiff\n",
    "        FROM raster_results_1\n",
    "        WHERE ST_Intersects(ST_SetSRID(ST_GeomFromText('{polygon_wkt}'), 4326), rast);\n",
    "        \"\"\"\n",
    "        \n",
    "        cursor = conn.cursor()\n",
    "    \n",
    "        cursor.execute(\"SET postgis.gdal_enabled_drivers = 'ENABLE_ALL';\")\n",
    "        cursor.execute(query)\n",
    "\n",
    "        result = cursor.fetchone()\n",
    "        cropped_tiff = result[0] if result else None\n",
    "    \n",
    "        out_image = cropped_tiff\n",
    "\n",
    "        if cropped_tiff:\n",
    "            timestamp = datetime.now().strftime(\"%Y%m%d_%H%M%S\")\n",
    "            filename = f\"output_{timestamp}.tiff\"\n",
    "            with open(f'/home/kea-trainee-punpun/Week2/polygon_tiff_output/{filename}', 'wb') as f:\n",
    "                f.write(out_image.tobytes())\n",
    "            status = f\"File '{filename}' created.\"\n",
    "        else:\n",
    "            status = \"No cropped raster data found.\"\n",
    "\n",
    "        return status\n",
    "\n",
    "    except Exception as e:\n",
    "        print(f\"Error: {e}\")\n",
    "\n",
    "    finally:\n",
    "        cursor.close()\n",
    "        conn.close()\n"
   ]
  },
  {
   "cell_type": "code",
   "execution_count": 3,
   "id": "40c581f4-7217-4c62-b6ae-53299db63ffa",
   "metadata": {},
   "outputs": [],
   "source": [
    "polygon_coords = [\n",
    "    # inside bound 2\n",
    "    (102.26539189185458, 16.54356817627857), \n",
    "    (101.95606037474194, 16.08328194532515),\n",
    "    (101.93394678768034, 16.647561388673765), \n",
    "    (102.36400115858939, 16.538869127991614),\n",
    "    (102.26539189185458, 16.54356817627857)\n",
    "    \n",
    "    # inside bound 1\n",
    "    # (101.86092, 15.57712), \n",
    "    # (101.87708, 15.57653),\n",
    "    # (101.87435, 15.56847), \n",
    "    # (101.86335, 15.56638), \n",
    "    # (101.86092, 15.57712)\n",
    "\n",
    "    # some are out\n",
    "    # (101.3173, 15.4978),\n",
    "    # (101.4995, 15.4964),\n",
    "    # (101.5848, 15.3267),\n",
    "    # (101.3166, 15.3301),\n",
    "    # (101.3173, 15.4978)\n",
    "    \n",
    "    (101.30000000, 15.50764175),\n",
    "    (101.58234912, 15.49990556), \n",
    "    (101.58062997, 15.30478166),\n",
    "    (101.26774407, 15.44661181), \n",
    "    (101.30000000, 15.50764175)\n",
    "\n",
    "    # all out\n",
    "    # (101.7, 17.069),\n",
    "    # (101.947, 17.065),\n",
    "    # (101.828, 16.911),\n",
    "    # (101.556, 16.877),\n",
    "    # (101.662, 16.982),\n",
    "    # (101.7, 17.069)\n",
    "\n",
    "    # flip\n",
    "    # (101.5, 15.5),\n",
    "    # (100.0, 15.5),\n",
    "    # (99.0, 16.0),\n",
    "    # (101.5, 15.0),\n",
    "    # (101.5, 15.5)\n",
    "]"
   ]
  },
  {
   "cell_type": "code",
   "execution_count": 4,
   "id": "ff632008-4456-4be4-9be1-9bd90e629b79",
   "metadata": {},
   "outputs": [
    {
     "data": {
      "text/plain": [
       "\"File 'output_20240708_052556.tiff' created.\""
      ]
     },
     "execution_count": 4,
     "metadata": {},
     "output_type": "execute_result"
    }
   ],
   "source": [
    "polygon_to_geotiff(polygon_coords)"
   ]
  },
  {
   "cell_type": "code",
   "execution_count": null,
   "id": "d9d9785c-feaf-4e41-b1ea-d5c0d7edd25d",
   "metadata": {},
   "outputs": [],
   "source": []
  }
 ],
 "metadata": {
  "kernelspec": {
   "display_name": "kernel_env",
   "language": "python",
   "name": "kernel_env"
  },
  "language_info": {
   "codemirror_mode": {
    "name": "ipython",
    "version": 3
   },
   "file_extension": ".py",
   "mimetype": "text/x-python",
   "name": "python",
   "nbconvert_exporter": "python",
   "pygments_lexer": "ipython3",
   "version": "3.10.12"
  }
 },
 "nbformat": 4,
 "nbformat_minor": 5
}
