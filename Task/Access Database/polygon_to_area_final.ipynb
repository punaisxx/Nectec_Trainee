{
 "cells": [
  {
   "cell_type": "code",
   "execution_count": 1,
   "id": "2cd8745a-b02b-4210-a03a-8aa81128a7ea",
   "metadata": {},
   "outputs": [],
   "source": [
    "import psycopg2\n",
    "from psycopg2 import sql"
   ]
  },
  {
   "cell_type": "code",
   "execution_count": 2,
   "id": "b68cae8b-15e3-412b-9b86-13008830a6e5",
   "metadata": {},
   "outputs": [],
   "source": [
    "def polygon_to_area(polygon_coords):\n",
    "    conn = psycopg2.connect(host=\"10.223.72.83\" ,port=\"5433\", database = \"postgres\" , user=\"postgres\" , password=\"punpuntpasswd\")\n",
    "    try:\n",
    "        polygon_wkt = \"POLYGON((\" + \",\".join([f\"{lon} {lat}\" for lon, lat in polygon_coords]) + \"))\"\n",
    "        query = f\"\"\"\n",
    "        WITH polygon_geom AS (\n",
    "            SELECT ST_SetSRID(ST_GeomFromText('{polygon_wkt}'), 4326) AS geom\n",
    "        )\n",
    "        SELECT\n",
    "            SUM(CASE WHEN value = 1 THEN count END) AS count_value1,\n",
    "            SUM(CASE WHEN value = 2 THEN count END) AS count_value2\n",
    "        FROM (\n",
    "            SELECT\n",
    "                value,\n",
    "                count\n",
    "            FROM (\n",
    "                SELECT\n",
    "                    (ST_ValueCount(ST_Clip(rast, geom))).*\n",
    "                FROM\n",
    "                    raster_results_1,\n",
    "                    polygon_geom\n",
    "                WHERE\n",
    "                    ST_Intersects(rast, geom)\n",
    "            ) AS counts\n",
    "        ) AS summary;\n",
    "\n",
    "        \"\"\"\n",
    "        cursor = conn.cursor()\n",
    "    \n",
    "        cursor.execute(query, (polygon_wkt,))\n",
    "    \n",
    "        result = cursor.fetchone()\n",
    "\n",
    "        if result:\n",
    "            rice_area = result[0]*100\n",
    "            sugarcane_area = result[1]*100\n",
    "        \n",
    "        return f\"{rice_area, sugarcane_area}\"\n",
    "        \n",
    "    except Exception as e:\n",
    "        print(f\"Error: {e}\")\n",
    "        \n",
    "    finally:\n",
    "        cursor.close()\n",
    "        conn.close()"
   ]
  },
  {
   "cell_type": "code",
   "execution_count": 3,
   "id": "5f2a8bec-b46d-4c31-b59d-7400f4796cab",
   "metadata": {},
   "outputs": [],
   "source": [
    "polygon_coords = [\n",
    "    # (102.26539189185458, 16.54356817627857), \n",
    "    # (101.95606037474194, 16.08328194532515),\n",
    "    # (101.93394678768034, 16.647561388673765), \n",
    "    # (102.36400115858939, 16.538869127991614), \n",
    "    # (102.26539189185458, 16.54356817627857)\n",
    "\n",
    "    # (101.86092, 15.57712), \n",
    "    # (101.87708, 15.57653),\n",
    "    # (101.87435, 15.56847), \n",
    "    # (101.86335, 15.56638), \n",
    "    # (101.86092, 15.57712)\n",
    "\n",
    "    (-93.5164, 42.0347),\n",
    "    (-93.5164, 42.0481),\n",
    "    (-93.4910, 42.0481),\n",
    "    (-93.4910, 42.0347),\n",
    "    (-93.5164, 42.0347)\n",
    "]"
   ]
  },
  {
   "cell_type": "code",
   "execution_count": 4,
   "id": "7700ffc0-d281-4e2e-8b53-69da122b3ac4",
   "metadata": {},
   "outputs": [
    {
     "data": {
      "text/plain": [
       "0.09671260689932148"
      ]
     },
     "execution_count": 4,
     "metadata": {},
     "output_type": "execute_result"
    }
   ],
   "source": [
    "polygon_to_area(polygon_coords)"
   ]
  }
 ],
 "metadata": {
  "kernelspec": {
   "display_name": "kernel_env",
   "language": "python",
   "name": "kernel_env"
  },
  "language_info": {
   "codemirror_mode": {
    "name": "ipython",
    "version": 3
   },
   "file_extension": ".py",
   "mimetype": "text/x-python",
   "name": "python",
   "nbconvert_exporter": "python",
   "pygments_lexer": "ipython3",
   "version": "3.10.12"
  }
 },
 "nbformat": 4,
 "nbformat_minor": 5
}
