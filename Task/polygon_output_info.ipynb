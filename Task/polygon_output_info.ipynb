{
 "cells": [
  {
   "cell_type": "code",
   "execution_count": 48,
   "metadata": {},
   "outputs": [],
   "source": [
    "import rasterio\n",
    "from rasterio.mask import mask\n",
    "from shapely.geometry import Polygon, mapping\n",
    "from rasterio.features import geometry_mask\n",
    "import numpy as np\n",
    "\n",
    "import os\n",
    "from datetime import datetime"
   ]
  },
  {
   "cell_type": "code",
   "execution_count": 49,
   "metadata": {},
   "outputs": [],
   "source": [
    "file_path = '/home/kea-trainee-punpun/task1/data/CPM_lstm_2023.tiff'"
   ]
  },
  {
   "cell_type": "code",
   "execution_count": 50,
   "metadata": {},
   "outputs": [],
   "source": [
    "def latlon_to_pixel(lat, lon, transform):\n",
    "    col, row = ~transform * (lon, lat)\n",
    "    return col, row"
   ]
  },
  {
   "cell_type": "code",
   "execution_count": 51,
   "metadata": {},
   "outputs": [],
   "source": [
    "polygon_coords = [\n",
    "    (101.5, 15.5),\n",
    "    (100.0, 15.5),\n",
    "    (99.0, 16.0),\n",
    "    (101.5, 15.0),\n",
    "    (104, 14)\n",
    "]"
   ]
  },
  {
   "cell_type": "code",
   "execution_count": 52,
   "metadata": {},
   "outputs": [],
   "source": [
    "def crop_raster_with_polygon(tiff_file, polygon_coords):\n",
    "    # Open the TIFF file\n",
    "    with rasterio.open(tiff_file) as src:\n",
    "        # Create a Shapely polygon from the coordinates\n",
    "        polygon = Polygon(polygon_coords)\n",
    "\n",
    "        geojson_polygon = mapping(polygon)\n",
    "        \n",
    "        # Perform the rasterio mask\n",
    "        out_image, out_transform = mask(src, [polygon], crop=True)\n",
    "        out_meta = src.meta.copy()\n",
    "        \n",
    "        return out_meta, out_image, out_transform"
   ]
  },
  {
   "cell_type": "code",
   "execution_count": 53,
   "metadata": {},
   "outputs": [],
   "source": [
    "out_meta, out_image, out_transform = crop_raster_with_polygon(file_path, polygon_coords)"
   ]
  },
  {
   "cell_type": "code",
   "execution_count": 54,
   "metadata": {},
   "outputs": [],
   "source": [
    "\n",
    "out_meta.update({\n",
    "    'height': out_image.shape[1],\n",
    "    'width': out_image.shape[2],\n",
    "    'transform': out_transform\n",
    "})"
   ]
  },
  {
   "cell_type": "code",
   "execution_count": 55,
   "metadata": {},
   "outputs": [],
   "source": [
    "def generate_output_file(out_meta):\n",
    "    timestamp = datetime.now().strftime(\"%Y%m%d_%H%M%S\")\n",
    "    filename = f\"output_{timestamp}.tiff\"\n",
    "    with rasterio.open(f'/home/kea-trainee-punpun/Week2/polygon_tiff_output/{filename}', 'w', **out_meta) as dst:\n",
    "        dst.write(out_image)\n",
    "    print(f\"File '{filename}' created.\")"
   ]
  },
  {
   "cell_type": "code",
   "execution_count": 56,
   "metadata": {},
   "outputs": [
    {
     "name": "stdout",
     "output_type": "stream",
     "text": [
      "File 'output_20240619_083833.tiff' created.\n"
     ]
    }
   ],
   "source": [
    "generate_output_file(out_meta)"
   ]
  }
 ],
 "metadata": {
  "kernelspec": {
   "display_name": "Python 3 (ipykernel)",
   "language": "python",
   "name": "python3"
  },
  "language_info": {
   "codemirror_mode": {
    "name": "ipython",
    "version": 3
   },
   "file_extension": ".py",
   "mimetype": "text/x-python",
   "name": "python",
   "nbconvert_exporter": "python",
   "pygments_lexer": "ipython3",
   "version": "3.11.8"
  }
 },
 "nbformat": 4,
 "nbformat_minor": 4
}
