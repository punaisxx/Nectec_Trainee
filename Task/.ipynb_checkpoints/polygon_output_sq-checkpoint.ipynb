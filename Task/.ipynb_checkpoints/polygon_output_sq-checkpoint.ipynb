{
 "cells": [
  {
   "cell_type": "code",
   "execution_count": 28,
   "metadata": {},
   "outputs": [],
   "source": [
    "import rasterio\n",
    "from rasterio.mask import mask\n",
    "from shapely.geometry import Polygon, mapping\n",
    "import numpy as np"
   ]
  },
  {
   "cell_type": "code",
   "execution_count": 29,
   "metadata": {},
   "outputs": [],
   "source": [
    "tiff_file = '/home/kea-trainee-punpun/Week2/data/CPM_lstm_2023.tiff'"
   ]
  },
  {
   "cell_type": "code",
   "execution_count": 30,
   "metadata": {},
   "outputs": [],
   "source": [
    "polygon_coords = [\n",
    "    (101.5, 15.5),\n",
    "    (102.0, 15.5),\n",
    "    (102.0, 16.0),\n",
    "    (101.5, 16.0),\n",
    "    (101.5, 15.5)\n",
    "]"
   ]
  },
  {
   "cell_type": "code",
   "execution_count": 37,
   "metadata": {},
   "outputs": [],
   "source": [
    "def crop_raster_with_polygon(tiff_file, polygon_coords):\n",
    "    # Open the TIFF file\n",
    "    with rasterio.open(tiff_file) as src:\n",
    "        # Create a Shapely polygon from the coordinates\n",
    "        polygon = Polygon(polygon_coords)\n",
    "\n",
    "        geojson_polygon = mapping(polygon)\n",
    "        \n",
    "        # Perform the rasterio mask\n",
    "        out_image, out_transform = mask(src, [polygon], crop=True)\n",
    "        \n",
    "        return out_image, out_transform"
   ]
  },
  {
   "cell_type": "code",
   "execution_count": null,
   "metadata": {},
   "outputs": [],
   "source": [
    "crop_data, out_transform =crop_raster_with_polygon(tiff_file, polygon_coords)"
   ]
  }
 ],
 "metadata": {
  "kernelspec": {
   "display_name": "Python 3 (ipykernel)",
   "language": "python",
   "name": "python3"
  },
  "language_info": {
   "codemirror_mode": {
    "name": "ipython",
    "version": 3
   },
   "file_extension": ".py",
   "mimetype": "text/x-python",
   "name": "python",
   "nbconvert_exporter": "python",
   "pygments_lexer": "ipython3",
   "version": "3.10.12"
  }
 },
 "nbformat": 4,
 "nbformat_minor": 2
}
