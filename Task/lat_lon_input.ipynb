{
 "cells": [
  {
   "cell_type": "code",
   "execution_count": 7,
   "id": "75ba186d-fe51-4368-90f9-458ed651bcc0",
   "metadata": {},
   "outputs": [],
   "source": [
    "import rasterio\n",
    "import numpy as np"
   ]
  },
  {
   "cell_type": "code",
   "execution_count": 8,
   "id": "7536668c-0cf4-4324-aadf-8ce642836c78",
   "metadata": {},
   "outputs": [],
   "source": [
    "file_path = '/home/kea-trainee-punpun/task1/data/CPM_lstm_2023.tiff'"
   ]
  },
  {
   "cell_type": "code",
   "execution_count": 9,
   "id": "5ca02109",
   "metadata": {},
   "outputs": [],
   "source": [
    "# latitude = 15.6819\n",
    "# longitude = 101.8537\n",
    "\n",
    "latitude = 15.5\n",
    "longitude = 102.0"
   ]
  },
  {
   "cell_type": "code",
   "execution_count": 10,
   "id": "1243c653-c81d-464f-9eb5-599f517db4ca",
   "metadata": {},
   "outputs": [],
   "source": [
    "def latlon_to_pixel(lat, lon, transform):\n",
    "    x = int((lon - transform[2]) / transform[0])\n",
    "    y = int((lat - transform[5]) / transform[4])\n",
    "    return x, y"
   ]
  },
  {
   "cell_type": "code",
   "execution_count": 11,
   "id": "1a0defbd-66c5-4bfd-bcac-66861f8b391e",
   "metadata": {},
   "outputs": [],
   "source": [
    "with rasterio.open(file_path) as src:\n",
    "    x, y = latlon_to_pixel(latitude, longitude, src.transform)\n",
    "    band_data = src.read(1)\n",
    "    value_at_location = band_data[y, x]\n",
    "\n",
    "    threshold_rice = 1\n",
    "    threshold_sugarcane = 2\n",
    "\n",
    "    if value_at_location < threshold_rice:\n",
    "        result = \"rice\"\n",
    "    elif value_at_location < threshold_sugarcane:\n",
    "        result = \"sugarcane\"\n",
    "    else:\n",
    "        result = \"none\""
   ]
  },
  {
   "cell_type": "code",
   "execution_count": 12,
   "id": "b9b6c29c-5f1c-4b67-9b28-565fa729d11f",
   "metadata": {},
   "outputs": [
    {
     "name": "stdout",
     "output_type": "stream",
     "text": [
      "At coordinates (lat=15.5, lon=102.0), classification result: rice\n"
     ]
    }
   ],
   "source": [
    "print(f\"At coordinates (lat={latitude}, lon={longitude}), classification result: {result}\")"
   ]
  }
 ],
 "metadata": {
  "kernelspec": {
   "display_name": "Python 3 (ipykernel)",
   "language": "python",
   "name": "python3"
  }
 },
 "nbformat": 4,
 "nbformat_minor": 5
}
