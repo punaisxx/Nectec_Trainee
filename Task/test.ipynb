{
 "cells": [
  {
   "cell_type": "code",
   "execution_count": 3,
   "metadata": {},
   "outputs": [],
   "source": [
    "import rasterio\n",
    "from rasterio.mask import mask\n",
    "from shapely.geometry import Polygon, mapping\n",
    "import numpy as np\n",
    "\n",
    "tiff_file = '/home/kea-trainee-punpun/Week2/data/CPM_lstm_2023_2.tiff'\n",
    "\n",
    "polygon_coords = [\n",
    "    (101.5, 15.5),\n",
    "    (102.0, 15.5),\n",
    "    (102.0, 16.0),\n",
    "    (101.5, 16.0),   \n",
    "    (101.5, 15.5)\n",
    "]\n",
    "\n",
    "#add\n",
    "def get_tiff_bounds(tiff_file):\n",
    "    with rasterio.open(tiff_file) as src:\n",
    "        bounds = src.bounds\n",
    "        crs = src.crs.to_string()\n",
    "        return bounds, crs\n",
    "#add\n",
    "def convert_coordinates(coords, from_crs, to_crs):\n",
    "    transformer = transform.Transformer.from_crs(from_crs, to_crs, always_xy=True)\n",
    "    converted_coords = [transformer.transform(x, y) for x, y in coords]\n",
    "    return converted_coords\n",
    "\n",
    "def crop_raster_with_polygon(tiff_file, polygon_coords):\n",
    "    # Open the TIFF file\n",
    "    with rasterio.open(tiff_file) as src:\n",
    "        # Create a Shapely polygon from the coordinates\n",
    "        polygon = Polygon(polygon_coords)\n",
    "\n",
    "        geojson_polygon = mapping(polygon)\n",
    "        \n",
    "        # Perform the rasterio mask\n",
    "        out_image, out_transform = mask(src, [polygon], crop=True)\n",
    "        \n",
    "        return out_image, out_transform\n",
    "#add\n",
    "def is_polygon_within_bounds(polygon_coords, tiff_bounds):\n",
    "    tiff_minx, tiff_miny, tiff_maxx, tiff_maxy = tiff_bounds\n",
    "    polygon = Polygon(polygon_coords)\n",
    "    polygon_bounds = polygon.bounds\n",
    "    \n",
    "    if (polygon_bounds[0] >= tiff_minx and polygon_bounds[1] >= tiff_miny and\n",
    "        polygon_bounds[2] <= tiff_maxx and polygon_bounds[3] <= tiff_maxy):\n",
    "        return True\n",
    "    else:\n",
    "        return False\n"
   ]
  },
  {
   "cell_type": "code",
   "execution_count": 4,
   "metadata": {},
   "outputs": [
    {
     "name": "stdout",
     "output_type": "stream",
     "text": [
      "0.06322456980348788\n",
      "0.023409904839359206\n"
     ]
    }
   ],
   "source": [
    "crop_data, out_transform =crop_raster_with_polygon(tiff_file, polygon_coords)\n",
    "\n",
    "rice_pixels = np.count_nonzero(crop_data == 1.000)\n",
    "sugarcane_pixels = np.count_nonzero(crop_data == 2.000)\n",
    "\n",
    "pixel_width = out_transform[0] \n",
    "pixel_height = -out_transform[4]\n",
    "\n",
    "rice_area_sqm = rice_pixels * pixel_width * pixel_height\n",
    "sugarcane_area_sqm = sugarcane_pixels * pixel_width * pixel_height\n",
    "\n",
    "print(rice_area_sqm)\n",
    "print(sugarcane_area_sqm)"
   ]
  },
  {
   "cell_type": "code",
   "execution_count": 9,
   "metadata": {},
   "outputs": [],
   "source": [
    "def get_plant_type_by_polygon():\n",
    "    \n",
    "    data = [\n",
    "    (101.5, 15.5),\n",
    "    (102.0, 15.5),\n",
    "    (102.0, 16.0),\n",
    "    (101.5, 16.0),   \n",
    "    (101.5, 15.5)\n",
    "]\n",
    "    # Validate input\n",
    "    if 'polygon' not in data:\n",
    "        return jsonify({'error': 'Polygon data is required'}), 400\n",
    "    \n",
    "    polygon_coords = data['polygon']\n",
    "    \n",
    "    # Check if polygon is within TIFF bounds\n",
    "    tiff_bounds, tiff_crs = get_tiff_bounds(TIFF_FILE_PATH)\n",
    "    \n",
    "    # Convert polygon coordinates if necessary\n",
    "    if tiff_crs != 'EPSG:4326':  # Assuming GeoTIFF CRS is EPSG:4326 (WGS84)\n",
    "        polygon_coords = convert_coordinates(polygon_coords, 'EPSG:4326', tiff_crs)\n",
    "    \n",
    "    # Check if polygon is within bounds\n",
    "    if not is_polygon_within_bounds(polygon_coords, tiff_bounds):\n",
    "        return jsonify({'error': 'Polygon extends beyond the bounds of the GeoTIFF file'}), 400\n",
    "    \n",
    "    try:\n",
    "        crop_data, out_transform = crop_raster_with_polygon(TIFF_FILE_PATH, polygon_coords)\n",
    "\n",
    "        rice_pixels = np.count_nonzero(crop_data == 1.000)\n",
    "        sugarcane_pixels = np.count_nonzero(crop_data == 2.000)\n",
    "\n",
    "        pixel_width = out_transform[0]\n",
    "        pixel_height = -out_transform[4]\n",
    "\n",
    "        rice_area_sqm = rice_pixels * pixel_width * pixel_height\n",
    "        sugarcane_area_sqm = sugarcane_pixels * pixel_width * pixel_height\n",
    "\n",
    "        return jsonify({\n",
    "            'polygon': polygon_coords,\n",
    "            'plant_areas': {\n",
    "                'rice_area_sqm': rice_area_sqm,\n",
    "                'sugarcane_area_sqm': sugarcane_area_sqm\n",
    "            }\n",
    "        })\n",
    "    except Exception as e:\n",
    "        return jsonify({'error': str(e)}), 500"
   ]
  },
  {
   "cell_type": "code",
   "execution_count": 10,
   "metadata": {},
   "outputs": [
    {
     "ename": "NameError",
     "evalue": "name 'jsonify' is not defined",
     "output_type": "error",
     "traceback": [
      "\u001b[0;31m---------------------------------------------------------------------------\u001b[0m",
      "\u001b[0;31mNameError\u001b[0m                                 Traceback (most recent call last)",
      "\u001b[0;32m/tmp/ipykernel_637805/1670572087.py\u001b[0m in \u001b[0;36m<module>\u001b[0;34m\u001b[0m\n\u001b[0;32m----> 1\u001b[0;31m \u001b[0mget_plant_type_by_polygon\u001b[0m\u001b[0;34m(\u001b[0m\u001b[0;34m)\u001b[0m\u001b[0;34m\u001b[0m\u001b[0;34m\u001b[0m\u001b[0m\n\u001b[0m",
      "\u001b[0;32m/tmp/ipykernel_637805/302694904.py\u001b[0m in \u001b[0;36mget_plant_type_by_polygon\u001b[0;34m()\u001b[0m\n\u001b[1;32m     10\u001b[0m     \u001b[0;31m# Validate input\u001b[0m\u001b[0;34m\u001b[0m\u001b[0;34m\u001b[0m\u001b[0m\n\u001b[1;32m     11\u001b[0m     \u001b[0;32mif\u001b[0m \u001b[0;34m'polygon'\u001b[0m \u001b[0;32mnot\u001b[0m \u001b[0;32min\u001b[0m \u001b[0mdata\u001b[0m\u001b[0;34m:\u001b[0m\u001b[0;34m\u001b[0m\u001b[0;34m\u001b[0m\u001b[0m\n\u001b[0;32m---> 12\u001b[0;31m         \u001b[0;32mreturn\u001b[0m \u001b[0mjsonify\u001b[0m\u001b[0;34m(\u001b[0m\u001b[0;34m{\u001b[0m\u001b[0;34m'error'\u001b[0m\u001b[0;34m:\u001b[0m \u001b[0;34m'Polygon data is required'\u001b[0m\u001b[0;34m}\u001b[0m\u001b[0;34m)\u001b[0m\u001b[0;34m,\u001b[0m \u001b[0;36m400\u001b[0m\u001b[0;34m\u001b[0m\u001b[0;34m\u001b[0m\u001b[0m\n\u001b[0m\u001b[1;32m     13\u001b[0m \u001b[0;34m\u001b[0m\u001b[0m\n\u001b[1;32m     14\u001b[0m     \u001b[0mpolygon_coords\u001b[0m \u001b[0;34m=\u001b[0m \u001b[0mdata\u001b[0m\u001b[0;34m[\u001b[0m\u001b[0;34m'polygon'\u001b[0m\u001b[0;34m]\u001b[0m\u001b[0;34m\u001b[0m\u001b[0;34m\u001b[0m\u001b[0m\n",
      "\u001b[0;31mNameError\u001b[0m: name 'jsonify' is not defined"
     ]
    }
   ],
   "source": [
    "get_plant_type_by_polygon()"
   ]
  }
 ],
 "metadata": {
  "kernelspec": {
   "display_name": "Python 3 (ipykernel)",
   "language": "python",
   "name": "python3"
  },
  "language_info": {
   "codemirror_mode": {
    "name": "ipython",
    "version": 3
   },
   "file_extension": ".py",
   "mimetype": "text/x-python",
   "name": "python",
   "nbconvert_exporter": "python",
   "pygments_lexer": "ipython3",
   "version": "3.10.12"
  }
 },
 "nbformat": 4,
 "nbformat_minor": 2
}
