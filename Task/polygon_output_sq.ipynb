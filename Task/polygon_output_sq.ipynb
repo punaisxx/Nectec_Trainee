{
 "cells": [
  {
   "cell_type": "code",
   "execution_count": 3,
   "metadata": {},
   "outputs": [],
   "source": [
    "import rasterio\n",
    "from rasterio.mask import mask\n",
    "from shapely.geometry import Polygon, mapping\n",
    "import numpy as np"
   ]
  },
  {
   "cell_type": "code",
   "execution_count": 4,
   "metadata": {},
   "outputs": [],
   "source": [
    "tiff_file = '/home/kea-trainee-punpun/Week2/data/CPM_lstm_2023_2.tiff'"
   ]
  },
  {
   "cell_type": "code",
   "execution_count": 5,
   "metadata": {},
   "outputs": [],
   "source": [
    "polygon_coords = [\n",
    "    (101.5, 15.5),\n",
    "    (102.0, 15.5),\n",
    "    (102.0, 16.0),\n",
    "    (101.5, 16.0),\n",
    "    (101.5, 15.5)\n",
    "]"
   ]
  },
  {
   "cell_type": "code",
   "execution_count": 6,
   "metadata": {},
   "outputs": [],
   "source": [
    "def crop_raster_with_polygon(tiff_file, polygon_coords):\n",
    "    # Open the TIFF file\n",
    "    with rasterio.open(tiff_file) as src:\n",
    "        # Create a Shapely polygon from the coordinates\n",
    "        polygon = Polygon(polygon_coords)\n",
    "\n",
    "        geojson_polygon = mapping(polygon)\n",
    "        \n",
    "        # Perform the rasterio mask\n",
    "        out_image, out_transform = mask(src, [polygon], crop=True)\n",
    "        \n",
    "        return out_image, out_transform"
   ]
  },
  {
   "cell_type": "code",
   "execution_count": 7,
   "metadata": {},
   "outputs": [],
   "source": [
    "crop_data, out_transform =crop_raster_with_polygon(tiff_file, polygon_coords)"
   ]
  },
  {
   "cell_type": "code",
   "execution_count": 8,
   "metadata": {},
   "outputs": [],
   "source": [
    "rice_pixels = np.count_nonzero(crop_data == 1.000)\n",
    "sugarcane_pixels = np.count_nonzero(crop_data == 2.000)"
   ]
  },
  {
   "cell_type": "code",
   "execution_count": 9,
   "metadata": {},
   "outputs": [],
   "source": [
    "pixel_width = out_transform[0] \n",
    "pixel_height = -out_transform[4]"
   ]
  },
  {
   "cell_type": "code",
   "execution_count": 10,
   "metadata": {},
   "outputs": [],
   "source": [
    "rice_area_sqm = rice_pixels * pixel_width * pixel_height\n",
    "sugarcane_area_sqm = sugarcane_pixels * pixel_width * pixel_height"
   ]
  },
  {
   "cell_type": "code",
   "execution_count": 11,
   "metadata": {},
   "outputs": [
    {
     "data": {
      "text/plain": [
       "0.06322456980348788"
      ]
     },
     "execution_count": 11,
     "metadata": {},
     "output_type": "execute_result"
    }
   ],
   "source": [
    "rice_area_sqm"
   ]
  },
  {
   "cell_type": "code",
   "execution_count": 12,
   "metadata": {},
   "outputs": [
    {
     "data": {
      "text/plain": [
       "0.023409904839359206"
      ]
     },
     "execution_count": 12,
     "metadata": {},
     "output_type": "execute_result"
    }
   ],
   "source": [
    "sugarcane_area_sqm"
   ]
  }
 ],
 "metadata": {
  "kernelspec": {
   "display_name": "Python 3 (ipykernel)",
   "language": "python",
   "name": "python3"
  }
 },
 "nbformat": 4,
 "nbformat_minor": 4
}
